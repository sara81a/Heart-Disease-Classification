{
 "cells": [
  {
   "attachments": {},
   "cell_type": "markdown",
   "metadata": {},
   "source": [
    "# 1 - Introduction:\n",
    "\n",
    "The primary cause of death in the world is heart failure disease¹.In 2019, 32 percent of all deaths worldwide were attributed to CVDs, killing an estimated 17.9 million people. Heart attacks and strokes were to blame for 85% of these deaths[2].\n",
    "our data set is generated to model a Heart Failure Prediction result. we aim to study data that will then help us solving a problem that early diagnosis of coronary heart disease that is important to enable counseling and medication management.This is by having factors that increase the risk of heart disease.\n",
    "\n",
    "\n",
    "¹Heart failure is a lifelong condition in which the heart muscle can't pump enough blood to meet the body's needs for blood and oxygen."
   ]
  },
  {
   "attachments": {},
   "cell_type": "markdown",
   "metadata": {},
   "source": [
    "# 2- Machine learning tasks:\n",
    "Our problem will be classification, Classification is a supervised machine learning method where the model tries to predict the correct label of a given input data so in our case,  HeartDisease as {0,1}, indicating weather a patient had a Heart Disease or not. \n",
    "As a result, the data will be divided into two groups: [1: Having heart disease, 0: Normal].\n"
   ]
  },
  {
   "attachments": {},
   "cell_type": "markdown",
   "metadata": {},
   "source": [
    "# 3- Data: \n",
    "The dataset is called \"Heart Failure Prediction Dataset\" which we got from Koggle.com. it is data for classifing patients based on weather a patient had a Heart Disease or not,our dataset is the largest heart disease dataset currently available for research purposes, this dataset combines 5 heart datasets using 11 features in common.\n",
    "\n",
    "URL : https://www.kaggle.com/datasets/fedesoriano/heart-failure-prediction\n",
    "\n",
    "The data set contains 918 observations with 12 attributes.\n",
    "Attribute Information\n",
    "1-Age(Integer): age of the patient [years]\n",
    "2-Sex(String): sex of the patient [M: Male, F: Female]\n",
    "3-ChestPainType(String): chest pain type [TA: Typical Angina, ATA: Atypical Angina, NAP: Non-Anginal Pain, ASY: Asymptomatic]\n",
    "4-RestingBP(Integer): resting blood pressure [mm Hg]\n",
    "5-Cholesterol(Integer): serum cholesterol [mm/dl]\n",
    "6-FastingBS(Integer): fasting blood sugar [1: if FastingBS > 120 mg/dl, 0: otherwise]\n",
    "7-RestingECG(String): resting electrocardiogram results [Normal: Normal, ST: having ST-T wave abnormality (T wave inversions and/or ST elevation or depression of > 0.05 mV), LVH: showing probable or definite left ventricular hypertrophy by Estes' criteria]\n",
    "8-MaxHR(Float): maximum heart rate achieved [Numeric value between 60 and 202]\n",
    "9-ExerciseAngina(String): exercise-induced angina [Y: Yes, N: No]\n",
    "10-Oldpeak(Float): oldpeak = ST [Numeric value measured in depression]\n",
    "11-ST_Slope(String): the slope of the peak exercise ST segment [Up: upsloping, Flat: flat, Down: downsloping]\n",
    "12-HeartDisease(Integer): output class [1: heart disease, 0: Normal]\n"
   ]
  },
  {
   "attachments": {},
   "cell_type": "markdown",
   "metadata": {},
   "source": [
    "| Variable | Type | Definition | Guide |\n",
    "| --- | --- | --- | --- |\n",
    "| Age | Integer | age of the patient | years |\n",
    "| Sex | String | sex of the patient | M: Male, F: Female |\n",
    "| ChestPainType |String | chest pain type | <br>TA: Typical Angina<br><br>ATA: Atypical Angina<br><br>NAP: Non-Anginal Pain<br><br>ASY: Asymptomatic<br> |\n",
    "| RestingBP | Integer |resting blood pressure | mm Hg |\n",
    "| Cholesterol | Integer | serum cholesterol | mm/dl |\n",
    "| FastingBS | Integer | fasting blood sugar | 1: if FastingBS > 120 mg/dl<br><br>0: otherwise |\n",
    "| RestingECG |String | resting electrocardiogram results | Normal: Normal<br><br>ST: having ST-T wave abnormality<br><br>LVH: showing probable or definite left ventricular hypertrophy by Estes' criteria |\n",
    "| MaxHR |Float | maximum heart rate achieved | Numeric value between 60 and 202 |\n",
    "| ExerciseAngina |String | exercise-induced angina | Y: Yes, N: No |\n",
    "| Oldpeak | Float |oldpeak = ST | Numeric value measured in depression |\n",
    "| ST_Slope |String | the slope of the peak exercise ST segment | Up: upsloping, Flat: flat, Down: downsloping |\n",
    "| HeartDisease |  Integer |output class | 1: heart disease, 0: Normal |"
   ]
  }
 ],
 "metadata": {
  "kernelspec": {
   "display_name": "Python 3.11.2 64-bit",
   "language": "python",
   "name": "python3"
  },
  "language_info": {
   "name": "python",
   "version": "3.11.2"
  },
  "orig_nbformat": 4,
  "vscode": {
   "interpreter": {
    "hash": "aee8b7b246df8f9039afb4144a1f6fd8d2ca17a180786b69acc140d282b71a49"
   }
  }
 },
 "nbformat": 4,
 "nbformat_minor": 2
}
